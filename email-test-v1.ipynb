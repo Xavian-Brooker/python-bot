{
 "cells": [
  {
   "cell_type": "code",
   "execution_count": 181,
   "metadata": {},
   "outputs": [],
   "source": [
    "# Importing the major libraries \n",
    "import pickle\n",
    "import os.path\n",
    "from googleapiclient.discovery import build\n",
    "from google_auth_oauthlib.flow import InstalledAppFlow\n",
    "from google.auth.transport.requests import Request\n",
    "import email \n",
    "import base64\n",
    "from urlextract import URLExtract\n",
    "import git\n",
    "import os"
   ]
  },
  {
   "cell_type": "code",
   "execution_count": 171,
   "metadata": {},
   "outputs": [],
   "source": [
    "# Major Functions -\n",
    "\n",
    "# If modifying these scopes, delete the file token.pickle.\n",
    "SCOPES = ['https://www.googleapis.com/auth/gmail.readonly']\n",
    "\n",
    "def get_service():\n",
    "    \"\"\"Shows basic usage of the Gmail API.\n",
    "    Lists the user's Gmail labels.\n",
    "    \"\"\"\n",
    "    creds = None\n",
    "    # The file token.pickle stores the user's access and refresh tokens, and is\n",
    "    # created automatically when the authorization flow completes for the first\n",
    "    # time.\n",
    "    if os.path.exists('token.pickle'):\n",
    "        with open('token.pickle', 'rb') as token:\n",
    "            creds = pickle.load(token)\n",
    "    # If there are no (valid) credentials available, let the user log in.\n",
    "    if not creds or not creds.valid:\n",
    "        if creds and creds.expired and creds.refresh_token:\n",
    "            creds.refresh(Request())\n",
    "        else:\n",
    "            flow = InstalledAppFlow.from_client_secrets_file(\n",
    "                'credentials.json', SCOPES)\n",
    "            creds = flow.run_local_server(port=0)\n",
    "        # Save the credentials for the next run\n",
    "        with open('token.pickle', 'wb') as token:\n",
    "            pickle.dump(creds, token)\n",
    "\n",
    "    service = build('gmail', 'v1', credentials=creds)\n",
    "    return service\n",
    "\n",
    "\n",
    "def get_msg_id(service, user_id, search_string):\n",
    "    \n",
    "    \"\"\"\n",
    "    Searches for messages and returns the msg_if of \n",
    "    the first message found with the search string\n",
    "    \"\"\"\n",
    "    \n",
    "    try:\n",
    "        search_id = service.users().messages().list(userId=user_id, q=search_string).execute()\n",
    "        number_results = search_id['resultSizeEstimate']\n",
    "        \n",
    "        final_list = []\n",
    "        if number_results>0:\n",
    "            message_ids = search_id['messages']\n",
    "            \n",
    "            for ids in message_ids:\n",
    "                final_list.append(ids['id'])\n",
    "            return (final_list[0])\n",
    "        \n",
    "    except(errors.HttpError, error):\n",
    "        print('An error occured %s') % error\n",
    "                \n",
    "def get_url_from_msg_id(service, user_id, msg_id):\n",
    "    \n",
    "    \"\"\"\n",
    "    Returns the message body given the message id\n",
    "    \"\"\"\n",
    "    extractor = URLExtract()\n",
    "    \n",
    "    try:\n",
    "        message = service.users().messages().get(userId=user_id, id=msg_id, format='full').execute()\n",
    "        content = message['payload']['parts'][0]['body']['data']\n",
    "        msg_body = base64.urlsafe_b64decode(content).decode('utf-8')\n",
    "        clean_str = \" \".join(msg_body.split())\n",
    "        url = extractor.find_urls(clean_str)\n",
    "        repo_url = url[1][(url[1].find('=')+1):]\n",
    "        return(repo_url)\n",
    "            \n",
    "    except(errors.HttpError, error):\n",
    "        print('An error occured', error)\n",
    "\n",
    "        \n",
    "def find_str(s, char):\n",
    "    \n",
    "    \"\"\" A function used to find the index of a particular substring in a string \"\"\"\n",
    "    \n",
    "    index = 0\n",
    "\n",
    "    if char in s:\n",
    "        c = char[0]\n",
    "        for ch in s:\n",
    "            if ch == c:\n",
    "                if s[index:index+len(char)] == char:\n",
    "                    return index\n",
    "\n",
    "            index += 1\n",
    "\n",
    "    return -1"
   ]
  },
  {
   "cell_type": "code",
   "execution_count": 183,
   "metadata": {},
   "outputs": [],
   "source": [
    "# User Id\n",
    "user_id = 'me'\n",
    "\n",
    "# Search String is the search parameter\n",
    "search_string = 'https://ununu-p2p.github.io/website/'\n",
    "\n",
    "# Calling the get_service method to recieve service object\n",
    "service = get_service()\n",
    "\n",
    "# Only get the body of the message with the first ID\n",
    "msg_id = get_msg_id(service=service, user_id=user_id, search_string=search_string)\n",
    "\n",
    "# Get the git repository url \n",
    "repo_url=get_url_from_msg_id(service=service, user_id=user_id, msg_id=msg_id)"
   ]
  },
  {
   "cell_type": "code",
   "execution_count": 182,
   "metadata": {},
   "outputs": [],
   "source": [
    "def clone_repo(dir_to_clone, repo_url):\n",
    "    \n",
    "    # Get the repository name\n",
    "    repo_name = repo_url[(repo_url.rfind('/')+1):]\n",
    "    \n",
    "    if os.path.isdir(dir_to_clone+repo_name):\n",
    "        print('The directory already exists')\n",
    "    else:\n",
    "        git.Git(dir_to_clone).clone(repo_url)\n",
    "        print('Sucessfully Cloned to the repository ', repo_name)"
   ]
  },
  {
   "cell_type": "code",
   "execution_count": null,
   "metadata": {},
   "outputs": [],
   "source": []
  },
  {
   "cell_type": "code",
   "execution_count": null,
   "metadata": {},
   "outputs": [],
   "source": []
  },
  {
   "cell_type": "code",
   "execution_count": 109,
   "metadata": {},
   "outputs": [
    {
     "data": {
      "text/plain": [
       "'https://3877366d45afc29fd466247a258d67e7b776014a@github.com/arashrobo/vlada_is_awesome3-Project'"
      ]
     },
     "execution_count": 109,
     "metadata": {},
     "output_type": "execute_result"
    }
   ],
   "source": [
    "find_str(repo_url, '=')\n",
    "repo_url[57:]"
   ]
  },
  {
   "cell_type": "code",
   "execution_count": 168,
   "metadata": {},
   "outputs": [
    {
     "data": {
      "text/plain": [
       "'https://3877366d= 45afc29fd466247a258d67e7b776014a@github.com/arashrobo/vlada_is_awesome3-Project'"
      ]
     },
     "execution_count": 168,
     "metadata": {},
     "output_type": "execute_result"
    }
   ],
   "source": [
    "b = 'https://ununu-p2p.github.io/website/redirect-v2.html?url=https://3877366d= 45afc29fd466247a258d67e7b776014a@github.com/arashrobo/vlada_is_awesome3-Project'\n",
    "b.find('=')\n",
    "b[(b.find('=')+1):]"
   ]
  },
  {
   "cell_type": "code",
   "execution_count": 7,
   "metadata": {},
   "outputs": [],
   "source": [
    "https://3877366d45afc29fd466247a258d67e7b776014a@github.com/arashrobo/vlada_is_awesome3-Project"
   ]
  },
  {
   "cell_type": "code",
   "execution_count": 146,
   "metadata": {},
   "outputs": [],
   "source": [
    "def find_str_inverse(s, char):\n",
    "    \n",
    "    \"\"\" A function used to find the index of a particular substring in a string \"\"\"\n",
    "    \n",
    "    index = 0\n",
    "\n",
    "    if char in s:\n",
    "        c = char[0]\n",
    "        for ch in s:\n",
    "            if ch == c:\n",
    "                if s[index:index+len(char)] == char:\n",
    "                    return index\n",
    "\n",
    "            index -= 1\n",
    "\n",
    "    return -1"
   ]
  },
  {
   "cell_type": "code",
   "execution_count": 162,
   "metadata": {},
   "outputs": [],
   "source": []
  },
  {
   "cell_type": "code",
   "execution_count": 164,
   "metadata": {},
   "outputs": [
    {
     "data": {
      "text/plain": [
       "'vlada_is_awesome3-Project'"
      ]
     },
     "execution_count": 164,
     "metadata": {},
     "output_type": "execute_result"
    }
   ],
   "source": []
  },
  {
   "cell_type": "code",
   "execution_count": 20,
   "metadata": {},
   "outputs": [
    {
     "data": {
      "text/plain": [
       "\"---------- Forwarded message --------- From: ununu collaborator <matters@ununu.io> Date: Sun, 14 Jun 2020 at 12:48 PM Subject: You've been invited to collaborate on =E2=80=98vlada_is_awesome3 P= roject=E2=80=99 To: <shresth@ununu.io> shresthagrawal.31@gmail.com has invited you to a new session on ununu for their project =E2=80=9Cvlada_is_awesome3 Project=E2=80=9D. Click here <https://u13700864.ct.sendgrid.net/ls/click?upn=3DqiMDC07PUtitanZVouU3CxTHF= 6L1PtPOexaTt6tWbqtHAFF0tCmQLrdjcyF1iSoHdqlodgs19d7LqZUi4z82apejIb3r0vggJcOQ= 7wfSLysU-2FTpXYvfAInebFFP93c9nZw9r42Yew3JFwu-2Fu4BblApUWf3Lc-2FIoPan7nRR6wY= hRyeNBeGo4t-2BJsux6xpUBvmYBKaUds7UiUVmUf52wZ7og8ZlutajICt2kR7K2bg-2BRs-3D-r= KS_NALNGe3NA5ub7cGzXzso-2BnB0sJUxX0IurICZlK02g4ysjYcJAgZH9eWK5X9Yo7HKJPYjAa= PYKdbih8jiIowd-2BoO6jto3RPHdUg5PotB29qhyJUe84XNOhlE-2FCtJNXZWmHzzx9bO-2FfSa= E-2Frr-2BefQuaNMVnW067IxstV7uyQyy7UidA3tSjMtnBG-2F-2BbuJ4o2uaylttJ8QRkdwGPR= a-2FR8Hd-2BDZb77Tiu-2FKwcL9SUhL-2F7F4-3D> or open the following URL in your browser to start collaborating: https://ununu-p2p.github.io/website/redirect-v2.html?url=3Dhttps://3877366d= 45afc29fd466247a258d67e7b776014a@github.com/arashrobo/vlada_is_awesome3-Pro= ject Their message: hello If you haven't yet downloaded ununu, get it here: https://ununu.io/download-latest.html --=20 Warm Regards *Shresth Agrawal*\""
      ]
     },
     "execution_count": 20,
     "metadata": {},
     "output_type": "execute_result"
    }
   ],
   "source": [
    "new_ = main_msg_str.replace(\" \", \"\")\n",
    "new_ = \" \".join(main_msg_str.split())\n",
    "new_"
   ]
  },
  {
   "cell_type": "code",
   "execution_count": 16,
   "metadata": {},
   "outputs": [],
   "source": [
    "urls = extractor.find_urls(new_)"
   ]
  },
  {
   "cell_type": "code",
   "execution_count": 17,
   "metadata": {},
   "outputs": [
    {
     "data": {
      "text/plain": [
       "['https://u13700864.ct.sendgrid.net/ls/click?upn=3DqiMDC07PUtitanZVouU3CxTHF=',\n",
       " 'https://ununu-p2p.github.io/website/redirect-v2.html?url=3Dhttps://3877366d=',\n",
       " 'https://ununu.io/download-latest.html']"
      ]
     },
     "execution_count": 17,
     "metadata": {},
     "output_type": "execute_result"
    }
   ],
   "source": [
    "urls"
   ]
  },
  {
   "cell_type": "code",
   "execution_count": 21,
   "metadata": {},
   "outputs": [],
   "source": [
    "test_str = 'hello bewakoof'"
   ]
  },
  {
   "cell_type": "code",
   "execution_count": 24,
   "metadata": {},
   "outputs": [
    {
     "data": {
      "text/plain": [
       "\"---------- Forwarded message ---------\\r\\nFrom: ununu collaborator <matters@ununu.io>\\r\\nDate: Sun, 14 Jun 2020 at 12:48 PM\\r\\nSubject: You've been invited to collaborate on =E2=80=98vlada_is_awesome3 P=\\r\\nroject=E2=80=99\\r\\nTo: <shresth@ununu.io>\\r\\n\\r\\n\\r\\nshresthagrawal.31@gmail.com has invited you to a new session on ununu for\\r\\ntheir project =E2=80=9Cvlada_is_awesome3 Project=E2=80=9D.\\r\\n\\r\\nClick here\\r\\n<https://u13700864.ct.sendgrid.net/ls/click?upn=3DqiMDC07PUtitanZVouU3CxTHF=\\r\\n6L1PtPOexaTt6tWbqtHAFF0tCmQLrdjcyF1iSoHdqlodgs19d7LqZUi4z82apejIb3r0vggJcOQ=\\r\\n7wfSLysU-2FTpXYvfAInebFFP93c9nZw9r42Yew3JFwu-2Fu4BblApUWf3Lc-2FIoPan7nRR6wY=\\r\\nhRyeNBeGo4t-2BJsux6xpUBvmYBKaUds7UiUVmUf52wZ7og8ZlutajICt2kR7K2bg-2BRs-3D-r=\\r\\nKS_NALNGe3NA5ub7cGzXzso-2BnB0sJUxX0IurICZlK02g4ysjYcJAgZH9eWK5X9Yo7HKJPYjAa=\\r\\nPYKdbih8jiIowd-2BoO6jto3RPHdUg5PotB29qhyJUe84XNOhlE-2FCtJNXZWmHzzx9bO-2FfSa=\\r\\nE-2Frr-2BefQuaNMVnW067IxstV7uyQyy7UidA3tSjMtnBG-2F-2BbuJ4o2uaylttJ8QRkdwGPR=\\r\\na-2FR8Hd-2BDZb77Tiu-2FKwcL9SUhL-2F7F4-3D>\\r\\nor open the following URL in your browser to start collaborating:\\r\\nhttps://ununu-p2p.github.io/website/redirect-v2.html?url=3Dhttps://3877366d=\\r\\n45afc29fd466247a258d67e7b776014a@github.com/arashrobo/vlada_is_awesome3-Pro=\\r\\nject\\r\\n\\r\\nTheir message:\\r\\nhello\\r\\n\\r\\nIf you haven't yet downloaded ununu, get it here:\\r\\nhttps://ununu.io/download-latest.html\\r\\n--=20\\r\\nWarm Regards\\r\\n\\r\\n*Shresth Agrawal*\\r\\n\""
      ]
     },
     "execution_count": 24,
     "metadata": {},
     "output_type": "execute_result"
    }
   ],
   "source": [
    "main_msg_str"
   ]
  },
  {
   "cell_type": "code",
   "execution_count": 28,
   "metadata": {},
   "outputs": [
    {
     "name": "stdout",
     "output_type": "stream",
     "text": [
      "----------Forwardedmessage---------From:ununucollaborator<matters@ununu.io>Date:Sun,14Jun2020at12:48PMSubject:You'vebeeninvitedtocollaborateon=E2=80=98vlada_is_awesome3P=roject=E2=80=99To:<shresth@ununu.io>shresthagrawal.31@gmail.comhasinvitedyoutoanewsessiononununufortheirproject=E2=80=9Cvlada_is_awesome3Project=E2=80=9D.Clickhere<https://u13700864.ct.sendgrid.net/ls/click?upn=3DqiMDC07PUtitanZVouU3CxTHF=6L1PtPOexaTt6tWbqtHAFF0tCmQLrdjcyF1iSoHdqlodgs19d7LqZUi4z82apejIb3r0vggJcOQ=7wfSLysU-2FTpXYvfAInebFFP93c9nZw9r42Yew3JFwu-2Fu4BblApUWf3Lc-2FIoPan7nRR6wY=hRyeNBeGo4t-2BJsux6xpUBvmYBKaUds7UiUVmUf52wZ7og8ZlutajICt2kR7K2bg-2BRs-3D-r=KS_NALNGe3NA5ub7cGzXzso-2BnB0sJUxX0IurICZlK02g4ysjYcJAgZH9eWK5X9Yo7HKJPYjAa=PYKdbih8jiIowd-2BoO6jto3RPHdUg5PotB29qhyJUe84XNOhlE-2FCtJNXZWmHzzx9bO-2FfSa=E-2Frr-2BefQuaNMVnW067IxstV7uyQyy7UidA3tSjMtnBG-2F-2BbuJ4o2uaylttJ8QRkdwGPR=a-2FR8Hd-2BDZb77Tiu-2FKwcL9SUhL-2F7F4-3D>oropenthefollowingURLinyourbrowsertostartcollaborating:https://ununu-p2p.github.io/website/redirect-v2.html?url=3Dhttps://3877366d=45afc29fd466247a258d67e7b776014a@github.com/arashrobo/vlada_is_awesome3-Pro=jectTheirmessage:helloIfyouhaven'tyetdownloadedununu,getithere:https://ununu.io/download-latest.html--=20WarmRegards*ShresthAgrawal*\n"
     ]
    }
   ],
   "source": [
    "clean_str = \" \".join(main_msg_str.split())\n",
    "final_str = clean_str.replace(\" \", \"\")\n",
    "print(final_str)"
   ]
  },
  {
   "cell_type": "code",
   "execution_count": 30,
   "metadata": {},
   "outputs": [],
   "source": [
    "urls = extractor.find_urls(final_str)"
   ]
  },
  {
   "cell_type": "code",
   "execution_count": 32,
   "metadata": {},
   "outputs": [],
   "source": []
  },
  {
   "cell_type": "code",
   "execution_count": 47,
   "metadata": {},
   "outputs": [],
   "source": [
    "http_index.append(find_str(clean_str, 'collaborating:'))"
   ]
  },
  {
   "cell_type": "code",
   "execution_count": 48,
   "metadata": {},
   "outputs": [],
   "source": [
    "http_index.append(find_str(clean_str, 'Their message'))"
   ]
  },
  {
   "cell_type": "code",
   "execution_count": 49,
   "metadata": {},
   "outputs": [],
   "source": [
    "http_url = clean_str[http_index[0]:http_index[1]]"
   ]
  },
  {
   "cell_type": "code",
   "execution_count": 50,
   "metadata": {},
   "outputs": [
    {
     "data": {
      "text/plain": [
       "'collaborating: https://ununu-p2p.github.io/website/redirect-v2.html?url=3Dhttps://3877366d= 45afc29fd466247a258d67e7b776014a@github.com/arashrobo/vlada_is_awesome3-Pro= ject '"
      ]
     },
     "execution_count": 50,
     "metadata": {},
     "output_type": "execute_result"
    }
   ],
   "source": [
    "http_url"
   ]
  },
  {
   "cell_type": "code",
   "execution_count": 51,
   "metadata": {},
   "outputs": [],
   "source": [
    "message = service.users().messages().get(userId=user_id, id=msg_id,\n",
    "                                             format='raw').execute()\n"
   ]
  },
  {
   "cell_type": "code",
   "execution_count": 59,
   "metadata": {},
   "outputs": [
    {
     "ename": "AttributeError",
     "evalue": "'dict' object has no attribute 'encode'",
     "output_type": "error",
     "traceback": [
      "\u001b[0;31m---------------------------------------------------------------------------\u001b[0m",
      "\u001b[0;31mAttributeError\u001b[0m                            Traceback (most recent call last)",
      "\u001b[0;32m<ipython-input-59-c121c30cecde>\u001b[0m in \u001b[0;36m<module>\u001b[0;34m\u001b[0m\n\u001b[0;32m----> 1\u001b[0;31m \u001b[0mmsg_str\u001b[0m \u001b[0;34m=\u001b[0m \u001b[0mbase64\u001b[0m\u001b[0;34m.\u001b[0m\u001b[0murlsafe_b64decode\u001b[0m\u001b[0;34m(\u001b[0m\u001b[0mmessage\u001b[0m\u001b[0;34m.\u001b[0m\u001b[0mencode\u001b[0m\u001b[0;34m(\u001b[0m\u001b[0;34m'UTF-8'\u001b[0m\u001b[0;34m)\u001b[0m\u001b[0;34m)\u001b[0m\u001b[0;34m\u001b[0m\u001b[0;34m\u001b[0m\u001b[0m\n\u001b[0m\u001b[1;32m      2\u001b[0m \u001b[0mmime_msg\u001b[0m \u001b[0;34m=\u001b[0m \u001b[0memail\u001b[0m\u001b[0;34m.\u001b[0m\u001b[0mmessage_from_string\u001b[0m\u001b[0;34m(\u001b[0m\u001b[0mmsg_str\u001b[0m\u001b[0;34m.\u001b[0m\u001b[0mdecode\u001b[0m\u001b[0;34m(\u001b[0m\u001b[0;34m)\u001b[0m\u001b[0;34m)\u001b[0m\u001b[0;34m\u001b[0m\u001b[0;34m\u001b[0m\u001b[0m\n",
      "\u001b[0;31mAttributeError\u001b[0m: 'dict' object has no attribute 'encode'"
     ]
    }
   ],
   "source": [
    "msg_str = base64.urlsafe_b64decode(message['raw'].encode('UTF-8'))\n",
    "mime_msg = email.message_from_string(msg_str.decode())\n"
   ]
  },
  {
   "cell_type": "code",
   "execution_count": 61,
   "metadata": {},
   "outputs": [
    {
     "ename": "KeyError",
     "evalue": "'payload'",
     "output_type": "error",
     "traceback": [
      "\u001b[0;31m---------------------------------------------------------------------------\u001b[0m",
      "\u001b[0;31mKeyError\u001b[0m                                  Traceback (most recent call last)",
      "\u001b[0;32m<ipython-input-61-57bb57dca722>\u001b[0m in \u001b[0;36m<module>\u001b[0;34m\u001b[0m\n\u001b[0;32m----> 1\u001b[0;31m \u001b[0mmsgs\u001b[0m \u001b[0;34m=\u001b[0m \u001b[0mmessage\u001b[0m\u001b[0;34m[\u001b[0m\u001b[0;34m'payload'\u001b[0m\u001b[0;34m]\u001b[0m\u001b[0;34m[\u001b[0m\u001b[0;34m'parts'\u001b[0m\u001b[0;34m]\u001b[0m\u001b[0;34m\u001b[0m\u001b[0;34m\u001b[0m\u001b[0m\n\u001b[0m\u001b[1;32m      2\u001b[0m \u001b[0mmsg\u001b[0m \u001b[0;34m=\u001b[0m \u001b[0mmsgs\u001b[0m\u001b[0;34m[\u001b[0m\u001b[0;36m1\u001b[0m\u001b[0;34m]\u001b[0m\u001b[0;34m[\u001b[0m\u001b[0;34m'body'\u001b[0m\u001b[0;34m]\u001b[0m\u001b[0;34m[\u001b[0m\u001b[0;34m'data'\u001b[0m\u001b[0;34m]\u001b[0m\u001b[0;34m\u001b[0m\u001b[0;34m\u001b[0m\u001b[0m\n",
      "\u001b[0;31mKeyError\u001b[0m: 'payload'"
     ]
    }
   ],
   "source": [
    "msgs = message['payload']['parts']\n",
    "msg = msgs[1]['body']['data']"
   ]
  },
  {
   "cell_type": "code",
   "execution_count": 69,
   "metadata": {},
   "outputs": [],
   "source": []
  },
  {
   "cell_type": "code",
   "execution_count": 87,
   "metadata": {},
   "outputs": [],
   "source": []
  },
  {
   "cell_type": "code",
   "execution_count": 94,
   "metadata": {},
   "outputs": [],
   "source": [
    "message = service.users().messages().get(userId=user_id, id=msg_id, format='full').execute()\n",
    "content = message['payload']['parts'][0]['body']['data']\n",
    "msg_body = base64.urlsafe_b64decode(content).decode('utf-8')\n",
    "\n",
    "clean_str = \" \".join(msg_body.split())\n",
    "urls = extractor.find_urls(clean_str)"
   ]
  },
  {
   "cell_type": "code",
   "execution_count": 96,
   "metadata": {},
   "outputs": [
    {
     "data": {
      "text/plain": [
       "'https://ununu-p2p.github.io/website/redirect-v2.html?url=https://3877366d45afc29fd466247a258d67e7b776014a@github.com/arashrobo/vlada_is_awesome3-Project'"
      ]
     },
     "execution_count": 96,
     "metadata": {},
     "output_type": "execute_result"
    }
   ],
   "source": [
    "urls[1]"
   ]
  },
  {
   "cell_type": "code",
   "execution_count": 73,
   "metadata": {},
   "outputs": [
    {
     "data": {
      "text/plain": [
       "'PGRpdj48YnI-PC9kaXY-PGRpdj48YnI-PGRpdiBjbGFzcz0iZ21haWxfcXVvdGUiPjxkaXYgZGlyPSJsdHIiIGNsYXNzPSJnbWFpbF9hdHRyIj4tLS0tLS0tLS0tIEZvcndhcmRlZCBtZXNzYWdlIC0tLS0tLS0tLTxicj5Gcm9tOiA8c3Ryb25nIGNsYXNzPSJnbWFpbF9zZW5kZXJuYW1lIiBkaXI9ImF1dG8iPnVudW51IGNvbGxhYm9yYXRvcjwvc3Ryb25nPiA8c3BhbiBkaXI9ImF1dG8iPiZsdDs8YSBocmVmPSJtYWlsdG86bWF0dGVyc0B1bnVudS5pbyI-bWF0dGVyc0B1bnVudS5pbzwvYT4mZ3Q7PC9zcGFuPjxicj5EYXRlOiBTdW4sIDE0IEp1biAyMDIwIGF0IDEyOjQ4IFBNPGJyPlN1YmplY3Q6IFlvdSYjMzk7dmUgYmVlbiBpbnZpdGVkIHRvIGNvbGxhYm9yYXRlIG9uIOKAmHZsYWRhX2lzX2F3ZXNvbWUzIFByb2plY3TigJk8YnI-VG86ICAmbHQ7PGEgaHJlZj0ibWFpbHRvOnNocmVzdGhAdW51bnUuaW8iPnNocmVzdGhAdW51bnUuaW88L2E-Jmd0Ozxicj48L2Rpdj48YnI-PGJyPjxhIGhyZWY9Im1haWx0bzpzaHJlc3RoYWdyYXdhbC4zMUBnbWFpbC5jb20iIHRhcmdldD0iX2JsYW5rIj5zaHJlc3RoYWdyYXdhbC4zMUBnbWFpbC5jb208L2E-IGhhcyBpbnZpdGVkIHlvdSB0byBhIG5ldyBzZXNzaW9uIG9uIHVudW51IGZvciB0aGVpciBwcm9qZWN0IOKAnHZsYWRhX2lzX2F3ZXNvbWUzIFByb2plY3TigJ0uPGJyPjxicj5DbGljayA8YSBocmVmPSJodHRwczovL3UxMzcwMDg2NC5jdC5zZW5kZ3JpZC5uZXQvbHMvY2xpY2s_dXBuPXFpTURDMDdQVXRpdGFuWlZvdVUzQ3hUSEY2TDFQdFBPZXhhVHQ2dFdicXRIQUZGMHRDbVFMcmRqY3lGMWlTb0hkcWxvZGdzMTlkN0xxWlVpNHo4MmFwZWpJYjNyMHZnZ0pjT1E3d2ZTTHlzVS0yRlRwWFl2ZkFJbmViRkZQOTNjOW5adzlyNDJZZXczSkZ3dS0yRnU0QmJsQXBVV2YzTGMtMkZJb1BhbjduUlI2d1loUnllTkJlR280dC0yQkpzdXg2eHBVQnZtWUJLYVVkczdVaVVWbVVmNTJ3WjdvZzhabHV0YWpJQ3Qya1I3SzJiZy0yQlJzLTNELXJLU19OQUxOR2UzTkE1dWI3Y0d6WHpzby0yQm5CMHNKVXhYMEl1cklDWmxLMDJnNHlzalljSkFnWkg5ZVdLNVg5WW83SEtKUFlqQWFQWUtkYmloOGppSW93ZC0yQm9PNmp0bzNSUEhkVWc1UG90QjI5cWh5SlVlODRYTk9obEUtMkZDdEpOWFpXbUh6eng5Yk8tMkZmU2FFLTJGcnItMkJlZlF1YU5NVm5XMDY3SXhzdFY3dXlReXk3VWlkQTN0U2pNdG5CRy0yRi0yQmJ1SjRvMnVheWx0dEo4UVJrZHdHUFJhLTJGUjhIZC0yQkRaYjc3VGl1LTJGS3djTDlTVWhMLTJGN0Y0LTNEIiB0YXJnZXQ9Il9ibGFuayI-aGVyZTwvYT4gb3Igb3BlbiB0aGUgZm9sbG93aW5nIFVSTCBpbiB5b3VyIGJyb3dzZXIgdG8gc3RhcnQgY29sbGFib3JhdGluZzo8YnI-PGEgaHJlZj0iaHR0cHM6Ly91bnVudS1wMnAuZ2l0aHViLmlvL3dlYnNpdGUvcmVkaXJlY3QtdjIuaHRtbD91cmw9aHR0cHM6Ly8zODc3MzY2ZDQ1YWZjMjlmZDQ2NjI0N2EyNThkNjdlN2I3NzYwMTRhQGdpdGh1Yi5jb20vYXJhc2hyb2JvL3ZsYWRhX2lzX2F3ZXNvbWUzLVByb2plY3QiIHRhcmdldD0iX2JsYW5rIj5odHRwczovL3VudW51LXAycC5naXRodWIuaW8vd2Vic2l0ZS9yZWRpcmVjdC12Mi5odG1sP3VybD1odHRwczovLzM4NzczNjZkNDVhZmMyOWZkNDY2MjQ3YTI1OGQ2N2U3Yjc3NjAxNGFAZ2l0aHViLmNvbS9hcmFzaHJvYm8vdmxhZGFfaXNfYXdlc29tZTMtUHJvamVjdDwvYT48YnI-PGJyPlRoZWlyIG1lc3NhZ2U6PGJyPmhlbGxvPGJyPjxicj5JZiB5b3UgaGF2ZW4mIzM5O3QgeWV0IGRvd25sb2FkZWQgdW51bnUsIGdldCBpdCBoZXJlOiA8YSBocmVmPSJodHRwczovL3VudW51LmlvL2Rvd25sb2FkLWxhdGVzdC5odG1sIiB0YXJnZXQ9Il9ibGFuayI-aHR0cHM6Ly91bnVudS5pby9kb3dubG9hZC1sYXRlc3QuaHRtbDwvYT4NCjxpbWcgc3JjPSJodHRwczovL3UxMzcwMDg2NC5jdC5zZW5kZ3JpZC5uZXQvd2Yvb3Blbj91cG49UUdaU3ZReExZQmtpSXRqV2pDODlnUzNYTlV2OXEzUDNOSkdtdllFN055NnlyZ2dKZVNORGdFMm1LRHZBR2N1aWQzdEZKbFNXUFI2Mm9TR2JQeDdVa2hzTTNuSFpLeDBKbVUwbkg4SUlmZ2RqNGNaNFFyeE4zWldLdkdraGNpTjkwODJBVU8wOUQ0VEhzQS0yQkpZUFdBNGtTeWV5aHEyQTJaQWFKV3VuT3FnbVp3Y0xzblRLN3VXaHRvVHVuUVoyeWNUZDlueUlidldXcFVRMzRWN3dISDNDdHBZc2tFRGNYNnAtMkJKM1VscjVYbkUtM0QiIGFsdD0iIiB3aWR0aD0iMSIgaGVpZ2h0PSIxIiBib3JkZXI9IjAiIHN0eWxlPSJoZWlnaHQ6MXB4IWltcG9ydGFudDt3aWR0aDoxcHghaW1wb3J0YW50O2JvcmRlci13aWR0aDowIWltcG9ydGFudDttYXJnaW4tdG9wOjAhaW1wb3J0YW50O21hcmdpbi1ib3R0b206MCFpbXBvcnRhbnQ7bWFyZ2luLXJpZ2h0OjAhaW1wb3J0YW50O21hcmdpbi1sZWZ0OjAhaW1wb3J0YW50O3BhZGRpbmctdG9wOjAhaW1wb3J0YW50O3BhZGRpbmctYm90dG9tOjAhaW1wb3J0YW50O3BhZGRpbmctcmlnaHQ6MCFpbXBvcnRhbnQ7cGFkZGluZy1sZWZ0OjAhaW1wb3J0YW50Ij4NCjwvZGl2PjwvZGl2Pi0tIDxicj48ZGl2IGRpcj0ibHRyIiBjbGFzcz0iZ21haWxfc2lnbmF0dXJlIiBkYXRhLXNtYXJ0bWFpbD0iZ21haWxfc2lnbmF0dXJlIj48ZGl2IGRpcj0ibHRyIj48ZGl2PjxkaXYgZGlyPSJsdHIiPjxkaXYgZGlyPSJsdHIiPjxkaXYgc3R5bGU9ImNvbG9yOnJnYigwLDAsMCk7Zm9udC1zaXplOjEyLjhweCI-V2FybSBSZWdhcmRzPGJyPjxiPlNocmVzdGggQWdyYXdhbDxicj48L2I-PGJyPjxicj48L2Rpdj48ZGl2PjxiPjx1Pjxicj48L3U-PC9iPjwvZGl2PjwvZGl2PjwvZGl2PjwvZGl2PjwvZGl2PjwvZGl2Pg0K'"
      ]
     },
     "execution_count": 73,
     "metadata": {},
     "output_type": "execute_result"
    }
   ],
   "source": [
    "# Get the right body data item (this part was my Heureka-moment as there are several 'data' keys)\n",
    "content = message['payload']['parts'][0]['parts'][1]['body']['data']\n",
    "\n",
    "# Encode\n",
    "msg_body = base64.urlsafe_b64decode(content).decode('utf-8')"
   ]
  },
  {
   "cell_type": "code",
   "execution_count": null,
   "metadata": {},
   "outputs": [],
   "source": [
    "def extract_msg_body()\n",
    "def find_url_v1(msg_body):\n",
    "    \n",
    "    "
   ]
  }
 ],
 "metadata": {
  "kernelspec": {
   "display_name": "Python 3",
   "language": "python",
   "name": "python3"
  },
  "language_info": {
   "codemirror_mode": {
    "name": "ipython",
    "version": 3
   },
   "file_extension": ".py",
   "mimetype": "text/x-python",
   "name": "python",
   "nbconvert_exporter": "python",
   "pygments_lexer": "ipython3",
   "version": "3.8.2"
  }
 },
 "nbformat": 4,
 "nbformat_minor": 4
}
